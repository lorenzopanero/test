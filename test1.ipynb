{
 "cells": [
  {
   "cell_type": "markdown",
   "metadata": {},
   "source": [
    "Array e Numpy\n"
   ]
  },
  {
   "cell_type": "code",
   "execution_count": 5,
   "metadata": {},
   "outputs": [],
   "source": [
    "import numpy as np\n"
   ]
  },
  {
   "cell_type": "code",
   "execution_count": 28,
   "metadata": {},
   "outputs": [
    {
     "name": "stdout",
     "output_type": "stream",
     "text": [
      "[ 0  1  2  3  4  5  6  7  8  9 10 11 12 13 14 15]\n",
      "[ 0  1  2  3  4  5  6  7  8  9 10 11 12 13 14 15] [ 0  1  2  3  4  5  6  7  8  9 10 11 12 13 14 15]\n",
      "[[ 0  1  2  3]\n",
      " [ 4  5  6  7]\n",
      " [ 8  9 10 11]\n",
      " [12 13 14 15]] [ 0  1  2  3  4  5  6  7  8  9 10 11 12 13 14 15]\n",
      "2\n",
      "4\n",
      "4\n",
      "16\n"
     ]
    },
    {
     "data": {
      "text/plain": [
       "np.float64(7.5)"
      ]
     },
     "execution_count": 28,
     "metadata": {},
     "output_type": "execute_result"
    }
   ],
   "source": [
    "#Numpy 1\n",
    "arr2 = np.arange(16)\n",
    "print(arr2)\n",
    "arr2_copy = arr2.copy()\n",
    "print(arr2, arr2_copy)\n",
    "arr2 = arr2.reshape(4, 4)\n",
    "print(arr2, arr2_copy)\n",
    "print(arr2.ndim)\n",
    "#arr2 has 4 dimensions, arr2_copy just one\n",
    "print(arr2.shape[0])\n",
    "print(arr2.shape[1])\n",
    "#arr2 has 4 rows and 4 columns\n",
    "print(arr2.size)\n",
    "#in arr2 there are 16 elements\n",
    "type(arr2)\n",
    "np.percentile(arr2, 50)\n",
    "np.median(arr2)\n"
   ]
  },
  {
   "cell_type": "code",
   "execution_count": 34,
   "metadata": {},
   "outputs": [
    {
     "data": {
      "image/png": "[encoded data removed]",
      "text/plain": [
       "<Figure size 640x480 with 1 Axes>"
      ]
     },
     "metadata": {},
     "output_type": "display_data"
    }
   ],
   "source": [
    "#Numpy 2\n",
    "from numpy import random\n",
    "s = random.normal(loc=3, scale=4, size=100)\n",
    "import matplotlib.pyplot as plt\n",
    "plt.hist(s, bins=20, color='blue', edgecolor='black', alpha=0.7)\n",
    "plt.xlabel(\"Value\")\n",
    "plt.ylabel(\"Frequency\")\n",
    "plt.title(\"Histogram of Normally Distributed Data\")\n",
    "plt.show()"
   ]
  },
  {
   "cell_type": "code",
   "execution_count": 2,
   "metadata": {},
   "outputs": [
    {
     "data": {
      "text/plain": [
       "[1, 2, 3, 4, 5, 6, 7, 8, 9]"
      ]
     },
     "execution_count": 2,
     "metadata": {},
     "output_type": "execute_result"
    }
   ],
   "source": [
    "a_string = \"123456789\"\n",
    "a_list = []\n",
    "\n",
    "for n in a_string:\n",
    "    a_list.append(int(n))\n",
    "\n",
    "a_list"
   ]
  },
  {
   "cell_type": "code",
   "execution_count": 4,
   "metadata": {},
   "outputs": [
    {
     "data": {
      "text/plain": [
       "[1, 2, 3, 4, 5, 6, 7, 8, 9]"
      ]
     },
     "execution_count": 4,
     "metadata": {},
     "output_type": "execute_result"
    }
   ],
   "source": [
    "#list comprension\n",
    "a_string = \"123456789\"\n",
    "a_list = [int(n) for n in a_string]\n",
    "a_list"
   ]
  },
  {
   "cell_type": "code",
   "execution_count": 15,
   "metadata": {},
   "outputs": [
    {
     "name": "stdout",
     "output_type": "stream",
     "text": [
      "CiAoCiAoCiAo\n"
     ]
    }
   ],
   "source": [
    "stringa = \"Ciaociaociao\"\n",
    "stringa_alternata = [lettera.upper() if i % 2 == 0 else lettera.lower() for i, lettera in enumerate(stringa)]\n",
    "stringa_alternata = ''.join(stringa_alternata)\n",
    "print(stringa_alternata)"
   ]
  },
  {
   "cell_type": "code",
   "execution_count": 18,
   "metadata": {},
   "outputs": [
    {
     "data": {
      "text/plain": [
       "['CiAoCiAoCiAo', 'BaUbAuBaU', 'MiAoMiAoMiAo']"
      ]
     },
     "execution_count": 18,
     "metadata": {},
     "output_type": "execute_result"
    }
   ],
   "source": [
    "lista = [\"ciaociaociao\", \"baubaubau\", \"miaomiaomiao\"]\n",
    "lista_alternata = [[lettera.upper() if i % 2 == 0 else lettera.lower() for i, lettera in enumerate(stringa)] for stringa in lista]\n",
    "lista_alternata = [''.join(stringa) for stringa in lista_alternata]\n",
    "lista_alternata"
   ]
  }
 ],
 "metadata": {
  "kernelspec": {
   "display_name": ".venv",
   "language": "python",
   "name": "python3"
  },
  "language_info": {
   "codemirror_mode": {
    "name": "ipython",
    "version": 3
   },
   "file_extension": ".py",
   "mimetype": "text/x-python",
   "name": "python",
   "nbconvert_exporter": "python",
   "pygments_lexer": "ipython3",
   "version": "3.12.3"
  }
 },
 "nbformat": 4,
 "nbformat_minor": 2
}
