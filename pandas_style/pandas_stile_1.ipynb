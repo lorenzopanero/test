{
 "cells": [
  {
   "cell_type": "code",
   "execution_count": 20,
   "metadata": {},
   "outputs": [],
   "source": [
    "import pandas as pd\n",
    "import numpy as np\n",
    "from IPython.display import display"
   ]
  },
  {
   "cell_type": "code",
   "execution_count": null,
   "metadata": {},
   "outputs": [
    {
     "name": "stdout",
     "output_type": "stream",
     "text": [
      "    A   B   C   D\n",
      "0  73  15  55  33\n",
      "1  63  64  11  11\n",
      "2  56  72  57  55\n",
      "3  94  44  91  55\n",
      "4  56  64  76  61\n",
      "5  21   3  19  19\n",
      "6   9  45  59  88\n",
      "7  39  69  56   6\n",
      "8  80  94   1  62\n",
      "9  74  57  94  32\n"
     ]
    }
   ],
   "source": [
    "#Create a dataframe of ten rows, four columns with random values. \n",
    "np.random.seed(35) #Define the seed\n",
    "dataframe = pd.DataFrame(np.random.randint(0, 100, size=(10, 4)), columns=[\"A\", \"B\", \"C\", \"D\"]) #Create the dataframe\n",
    "print(dataframe)"
   ]
  },
  {
   "cell_type": "code",
   "execution_count": 12,
   "metadata": {},
   "outputs": [
    {
     "name": "stdout",
     "output_type": "stream",
     "text": [
      "      A     B     C     D\n",
      "0  73.0  15.0  55.0  33.0\n",
      "1   NaN  64.0  11.0  11.0\n",
      "2  56.0   NaN  57.0  55.0\n",
      "3  94.0  44.0   NaN  55.0\n",
      "4  56.0  64.0  76.0   NaN\n",
      "5   NaN   3.0  19.0  19.0\n",
      "6   9.0   NaN  59.0  88.0\n",
      "7  39.0  69.0   NaN   6.0\n",
      "8  80.0  94.0   1.0   NaN\n",
      "9  74.0  57.0  94.0  32.0\n"
     ]
    }
   ],
   "source": [
    "# Convert some values to nan values\n",
    "dataframe.loc[1, \"A\"] = np.nan\n",
    "dataframe.loc[2, \"B\"] = np.nan\n",
    "dataframe.loc[3, \"C\"] = np.nan\n",
    "dataframe.loc[4, \"D\"] = np.nan\n",
    "dataframe.loc[5, \"A\"] = np.nan\n",
    "dataframe.loc[6, \"B\"] = np.nan\n",
    "dataframe.loc[7, \"C\"] = np.nan\n",
    "dataframe.loc[8, \"D\"] = np.nan\n",
    "print(dataframe)"
   ]
  },
  {
   "cell_type": "code",
   "execution_count": null,
   "metadata": {},
   "outputs": [
    {
     "ename": "TypeError",
     "evalue": "Styler.map() missing 1 required positional argument: 'func'",
     "output_type": "error",
     "traceback": [
      "\u001b[0;31m---------------------------------------------------------------------------\u001b[0m",
      "\u001b[0;31mTypeError\u001b[0m                                 Traceback (most recent call last)",
      "Cell \u001b[0;32mIn[28], line 3\u001b[0m\n\u001b[1;32m      1\u001b[0m \u001b[38;5;66;03m#Write a Pandas program to highlight dataframe’s specific columns with different colors.\u001b[39;00m\n\u001b[1;32m      2\u001b[0m styled_df \u001b[38;5;241m=\u001b[39m dataframe\u001b[38;5;241m.\u001b[39mstyle\u001b[38;5;241m.\u001b[39mhighlight_null(color\u001b[38;5;241m=\u001b[39m\u001b[38;5;124m'\u001b[39m\u001b[38;5;124mred\u001b[39m\u001b[38;5;124m'\u001b[39m) \u001b[38;5;66;03m#Highlight the nan values in red\u001b[39;00m\n\u001b[0;32m----> 3\u001b[0m styled_df \u001b[38;5;241m=\u001b[39m \u001b[43mdataframe\u001b[49m\u001b[38;5;241;43m.\u001b[39;49m\u001b[43mstyle\u001b[49m\u001b[38;5;241;43m.\u001b[39;49m\u001b[43mmap\u001b[49m\u001b[43m(\u001b[49m\u001b[43mcolor_first_column\u001b[49m\u001b[38;5;241;43m=\u001b[39;49m\u001b[38;5;124;43m'\u001b[39;49m\u001b[38;5;124;43myellow\u001b[39;49m\u001b[38;5;124;43m'\u001b[39;49m\u001b[43m)\u001b[49m\n\u001b[1;32m      4\u001b[0m display(styled_df)\n",
      "\u001b[0;31mTypeError\u001b[0m: Styler.map() missing 1 required positional argument: 'func'"
     ]
    }
   ],
   "source": [
    "#Write a Pandas program to highlight dataframe’s specific columns with different colors.\n",
    "styled_df = dataframe.style.highlight_null(color='red') #Highlight the nan values in red\n",
    "styled_df = dataframe.style.\n",
    "display(styled_df)"
   ]
  }
 ],
 "metadata": {
  "kernelspec": {
   "display_name": ".venv",
   "language": "python",
   "name": "python3"
  },
  "language_info": {
   "codemirror_mode": {
    "name": "ipython",
    "version": 3
   },
   "file_extension": ".py",
   "mimetype": "text/x-python",
   "name": "python",
   "nbconvert_exporter": "python",
   "pygments_lexer": "ipython3",
   "version": "3.12.3"
  }
 },
 "nbformat": 4,
 "nbformat_minor": 2
}
